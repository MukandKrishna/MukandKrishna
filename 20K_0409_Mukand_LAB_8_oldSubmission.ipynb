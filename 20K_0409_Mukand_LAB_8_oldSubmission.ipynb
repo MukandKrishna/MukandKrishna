{
  "nbformat": 4,
  "nbformat_minor": 0,
  "metadata": {
    "colab": {
      "provenance": [],
      "authorship_tag": "ABX9TyM8DJCx8PBUlGZaQmEYzNPw",
      "include_colab_link": true
    },
    "kernelspec": {
      "name": "python3",
      "display_name": "Python 3"
    },
    "language_info": {
      "name": "python"
    }
  },
  "cells": [
    {
      "cell_type": "markdown",
      "metadata": {
        "id": "view-in-github",
        "colab_type": "text"
      },
      "source": [
        "<a href=\"https://colab.research.google.com/github/MukandKrishna/MukandKrishna/blob/main/20K_0409_Mukand_LAB_8_oldSubmission.ipynb\" target=\"_parent\"><img src=\"https://colab.research.google.com/assets/colab-badge.svg\" alt=\"Open In Colab\"/></a>"
      ]
    },
    {
      "cell_type": "markdown",
      "source": [
        "##**OLD codes submission**\n"
      ],
      "metadata": {
        "id": "Klr5HPVGKsqv"
      }
    },
    {
      "cell_type": "markdown",
      "source": [
        "##**Task # 1**: \n",
        "Two unbiased dice are thrown once and the total score is observed. Use a simulation to find\n",
        "the estimated probability that the total score is even or greater than 7?"
      ],
      "metadata": {
        "id": "ZZwb-pUBLJVB"
      }
    },
    {
      "cell_type": "code",
      "source": [
        "import random\n",
        "\n",
        "def diceRoll():\n",
        "    dice1 = random.randint(1, 6)\n",
        "    dice2 = random.randint(1, 6)\n",
        "    return dice1 + dice2\n",
        "\n",
        "\n",
        "even = 0\n",
        "greater_7 = 0\n",
        "\n",
        "sim_times = 1000\n",
        "\n",
        "\n",
        "for i in range(sim_times):\n",
        "    score = diceRoll()\n",
        "    if score % 2 == 0:\n",
        "        even += 1\n",
        "    if score > 7:\n",
        "        greater_7 += 1\n",
        "\n",
        "prob_even = even / sim_times\n",
        "prob_great_7 = greater_7 / sim_times\n",
        "\n",
        "\n",
        "print(\"Probability for even score:\", prob_even)\n",
        "print(\"Probability for score > 7:\", prob_great_7)\n"
      ],
      "metadata": {
        "colab": {
          "base_uri": "https://localhost:8080/"
        },
        "id": "pY4zKRzKLSff",
        "outputId": "cf84f218-8e79-46a0-a213-a653ebf8e078"
      },
      "execution_count": 9,
      "outputs": [
        {
          "output_type": "stream",
          "name": "stdout",
          "text": [
            "Probability of getting an even score: 0.494\n",
            "Probability of a score > than 7: 0.418\n"
          ]
        }
      ]
    },
    {
      "cell_type": "markdown",
      "source": [
        "##**Task # 2:**\n",
        "\n",
        "A box contains 10 white balls, 20 reds and 30 greens. Draw 5 balls with replacement… what is the probability that:\n",
        "a. 3 white or 2 red\n",
        "b. All 5 are the same color"
      ],
      "metadata": {
        "id": "HeOt1fP2MqJ2"
      }
    },
    {
      "cell_type": "code",
      "source": [
        "import random\n",
        "\n",
        "white = 10\n",
        "red = 20\n",
        "green = 30\n",
        "\n",
        "\n",
        "total = white + red + green\n",
        "\n",
        "sim_times = 1000\n",
        "\n",
        "numA = 0\n",
        "numB = 0\n",
        "\n",
        "for i in range(sim_times):\n",
        "    balls = [random.choice(['white', 'red', 'green']) for j in range(5)]\n",
        "    white_balls = balls.count('white')\n",
        "    red_balls = balls.count('red')\n",
        "    green_balls = balls.count('green')\n",
        "    if white_balls == 3 or red_balls == 2:\n",
        "        numA += 1\n",
        "    if white_balls == 5 or red_balls == 5 or green_balls == 5:\n",
        "        numB += 1\n",
        "\n",
        "\n",
        "prob_a = numA / sim_times\n",
        "prob_b = numB / sim_times\n",
        "\n",
        "print(\"Probability of drawing 3 white or 2 red balls:\", prob_a)\n",
        "print(\"Probability of drawing all balls of the same color:\", prob_b)\n"
      ],
      "metadata": {
        "colab": {
          "base_uri": "https://localhost:8080/"
        },
        "id": "WjR_ZXkCM1iA",
        "outputId": "04e5389f-464a-4aa1-9338-3207fada7bed"
      },
      "execution_count": 10,
      "outputs": [
        {
          "output_type": "stream",
          "name": "stdout",
          "text": [
            "Probability of drawing 3 white or 2 red balls: 0.441\n",
            "Probability of drawing all balls of the same color: 0.016\n"
          ]
        }
      ]
    }
  ]
}